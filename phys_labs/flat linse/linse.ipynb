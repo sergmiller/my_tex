{
 "cells": [
  {
   "cell_type": "code",
   "execution_count": 2,
   "metadata": {
    "collapsed": true
   },
   "outputs": [],
   "source": [
    "import numpy as np\n",
    "import pandas as pd\n",
    "import matplotlib.pyplot as plt\n",
    "import sklearn\n",
    "plt.style.use('ggplot')\n",
    "from sympy import *\n",
    "from matplotlib import cm\n",
    "from sklearn.cross_validation import KFold\n",
    "from sklearn.cross_validation import cross_val_score\n",
    "from sklearn.neighbors import KNeighborsClassifier, KNeighborsRegressor\n",
    "%matplotlib inline\n",
    "def scan_from_csv(filename):\n",
    "    return pd.read_csv(filename,na_values='None',sep=';')\n",
    "\n",
    "def write_answer_to_file(answer,file):\n",
    "    with open(file, 'w') as answer_file:  \n",
    "        answer_file.write(answer)"
   ]
  },
  {
   "cell_type": "code",
   "execution_count": 29,
   "metadata": {
    "collapsed": true
   },
   "outputs": [],
   "source": [
    "f_fat = np.array([15,19,14,13])\n",
    "f1 = np.array([111,220,234,227])\n",
    "f2 = np.array([113,223,230,225])\n",
    "l0 = 10"
   ]
  },
  {
   "cell_type": "code",
   "execution_count": 20,
   "metadata": {
    "collapsed": false
   },
   "outputs": [],
   "source": [
    "f = (f1 + f2 + f_fat)/2\n",
    "d_f = (np.abs(f1 - f2) + f_fat)/2"
   ]
  },
  {
   "cell_type": "code",
   "execution_count": 39,
   "metadata": {
    "collapsed": false
   },
   "outputs": [
    {
     "name": "stdout",
     "output_type": "stream",
     "text": [
      "[(119.5, 8.5), (231.0, 11.0), (239.0, 9.0), (232.5, 7.5)]\n"
     ]
    }
   ],
   "source": [
    "print([a for a in zip(f,d_f)])"
   ]
  },
  {
   "cell_type": "markdown",
   "metadata": {},
   "source": [
    "Кепплер  3-1-4  - экран"
   ]
  },
  {
   "cell_type": "code",
   "execution_count": 42,
   "metadata": {
    "collapsed": false
   },
   "outputs": [
    {
     "name": "stdout",
     "output_type": "stream",
     "text": [
      "0.513978494624 0.0401430628073\n",
      "0.5555555555555556 0.08304706201897352\n"
     ]
    }
   ],
   "source": [
    "l1 = 10\n",
    "l2 = 18\n",
    "d_l1 = 1\n",
    "d_l2 = 2\n",
    "y1 = f[0]/f[3]\n",
    "s_y1 = ((d_f[3]/f[3])**2 + (d_f[0]/f[0])**2)**0.5\n",
    "d_y1 = s_y1*y1\n",
    "print(y1,d_y1)\n",
    "y2 = l1/l2\n",
    "s_y2 = ((d_l1/l1)**2 + (d_l2/l2)**2)**0.5\n",
    "d_y2 = s_y2*y2\n",
    "print(y2,d_y2)"
   ]
  },
  {
   "cell_type": "markdown",
   "metadata": {},
   "source": [
    "Галилей 1-2-3 - экран"
   ]
  },
  {
   "cell_type": "code",
   "execution_count": 46,
   "metadata": {
    "collapsed": false
   },
   "outputs": [
    {
     "name": "stdout",
     "output_type": "stream",
     "text": [
      "0.966527196653 0.0586771655862\n",
      "0.9333333333333333 0.1139904696037955\n"
     ]
    }
   ],
   "source": [
    "l1 = 56\n",
    "l2 = 60\n",
    "d_l1 = 5\n",
    "d_l2 = 5\n",
    "y1 = f[1]/f[2]\n",
    "s_y1 = ((d_f[1]/f[1])**2 + (d_f[2]/f[2])**2)**0.5\n",
    "d_y1 = s_y1*y1\n",
    "print(y1,d_y1)\n",
    "y2 = l1/l2\n",
    "s_y2 = ((d_l1/l1)**2 + (d_l2/l2)**2)**0.5\n",
    "d_y2 = s_y2*y2\n",
    "print(y2,d_y2)"
   ]
  },
  {
   "cell_type": "code",
   "execution_count": 67,
   "metadata": {
    "collapsed": false
   },
   "outputs": [
    {
     "data": {
      "text/plain": [
       "1.4240005625681236"
      ]
     },
     "execution_count": 67,
     "metadata": {},
     "output_type": "execute_result"
    }
   ],
   "source": [
    "250*(520-239-119)/(119*239)"
   ]
  },
  {
   "cell_type": "code",
   "execution_count": 66,
   "metadata": {
    "collapsed": false
   },
   "outputs": [
    {
     "name": "stdout",
     "output_type": "stream",
     "text": [
      "1.41366572714 0.26625106598\n"
     ]
    }
   ],
   "source": [
    "L = 250\n",
    "D = 520\n",
    "y1 = L*(D- f[0] - f[2])/(f[0]*f[2])\n",
    "s_y1 = ((d_f[0]/f[0])**2 + (d_f[2]/f[2])**2 +\n",
    "        + ((d_f[2] + d_f[0] + 10)/(D- f[0] - f[2]))**2 )**0.5\n",
    "d_y1 = s_y1*y1\n",
    "print(y1, d_y1)"
   ]
  },
  {
   "cell_type": "code",
   "execution_count": 3,
   "metadata": {
    "collapsed": false
   },
   "outputs": [],
   "source": [
    "import multiprocessing\n",
    "import "
   ]
  },
  {
   "cell_type": "code",
   "execution_count": null,
   "metadata": {
    "collapsed": true
   },
   "outputs": [],
   "source": []
  }
 ],
 "metadata": {
  "kernelspec": {
   "display_name": "Python 3",
   "language": "python",
   "name": "python3"
  },
  "language_info": {
   "codemirror_mode": {
    "name": "ipython",
    "version": 3
   },
   "file_extension": ".py",
   "mimetype": "text/x-python",
   "name": "python",
   "nbconvert_exporter": "python",
   "pygments_lexer": "ipython3",
   "version": "3.5.2"
  }
 },
 "nbformat": 4,
 "nbformat_minor": 0
}
