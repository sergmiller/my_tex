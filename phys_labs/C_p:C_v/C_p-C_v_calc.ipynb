{
 "cells": [
  {
   "cell_type": "code",
   "execution_count": 42,
   "metadata": {
    "collapsed": true
   },
   "outputs": [],
   "source": [
    "import math\n",
    "import numpy as np\n",
    "import scipy.stats as sps\n",
    "import matplotlib.pyplot as plt\n",
    "from sympy import *\n",
    "from matplotlib import cm\n",
    "from scipy.stats import multivariate_normal\n",
    "from matplotlib import rcParams\n",
    "from mpl_toolkits.mplot3d import Axes3D\n",
    "from matplotlib.ticker import LinearLocator, FormatStrFormatter\n",
    "from scipy import integrate\n",
    "from sklearn.datasets import load_iris\n",
    "%matplotlib inline"
   ]
  },
  {
   "cell_type": "code",
   "execution_count": 269,
   "metadata": {
    "collapsed": false
   },
   "outputs": [],
   "source": [
    "L_sm = 700\n",
    "R = 8.31\n",
    "mu = 29.04\n",
    "ck = 273.15\n",
    "g_t = 0.03\n",
    "frq_kHz = [1.13,2.64, 3.4, 4.29, 5.11]\n",
    "temp_c = [21.6, 21.6, 21.2, 21.2, 21.2]"
   ]
  },
  {
   "cell_type": "code",
   "execution_count": 245,
   "metadata": {
    "collapsed": true
   },
   "outputs": [],
   "source": [
    "data_offset_mm = [\n",
    "    list([220,75]), \n",
    "    list([215,150,83,20]), \n",
    "    list([220,170,120,68,18]), \n",
    "    list([227,187,147,106,67,25]),\n",
    "    list([212,180,145,112,77,44,10]), \n",
    "]"
   ]
  },
  {
   "cell_type": "code",
   "execution_count": 246,
   "metadata": {
    "collapsed": false
   },
   "outputs": [],
   "source": [
    "for i in range(5):\n",
    "    data_offset_mm[i].reverse()"
   ]
  },
  {
   "cell_type": "code",
   "execution_count": 204,
   "metadata": {
    "collapsed": false
   },
   "outputs": [
    {
     "name": "stdout",
     "output_type": "stream",
     "text": [
      "75&104&130&167&220&\n",
      "20&83&150&215&\n",
      "18&68&120&170&220&\n",
      "25&67&106&147&187&227&\n",
      "10&44&77&112&145&180&212&\n"
     ]
    }
   ],
   "source": [
    "for i in range(5):\n",
    "    for j in range(len(data_offset_mm[i])):\n",
    "        print(data_offset_mm[i][j], end='&')\n",
    "    print()"
   ]
  },
  {
   "cell_type": "code",
   "execution_count": 61,
   "metadata": {
    "collapsed": false
   },
   "outputs": [],
   "source": [
    "def prv(a,b):\n",
    "    c = []\n",
    "    for i in range(len(a)):\n",
    "        c.append(a[i]*b[i])\n",
    "    return np.array(c)"
   ]
  },
  {
   "cell_type": "code",
   "execution_count": 98,
   "metadata": {
    "collapsed": false
   },
   "outputs": [],
   "source": [
    "def mnk_val(x,y):\n",
    "    x = np.array(x)\n",
    "    y = np.array(y)\n",
    "    t = prv(x,y).mean() - x.mean()*y.mean()\n",
    "    b = prv(x,x).mean() - x.mean()**2\n",
    "    t = float(t)\n",
    "    b = float(b)\n",
    "    return t/b\n",
    "\n",
    "def err(x,y,k):\n",
    "    x = np.array(x)\n",
    "    y = np.array(y)\n",
    "    t = prv(y,y).mean() - y.mean()**2\n",
    "    b = prv(x,x).mean() - x.mean()**2\n",
    "    t = float(t)\n",
    "    b = float(b)\n",
    "    return sqrt((t/b - k*k)/len(x))\n",
    "\n",
    "def mnk_b(x,y,k):\n",
    "    x = np.array(x)\n",
    "    y = np.array(y)\n",
    "    return y.mean() - k*x.mean()"
   ]
  },
  {
   "cell_type": "code",
   "execution_count": 288,
   "metadata": {
    "collapsed": false
   },
   "outputs": [],
   "source": [
    "k = [] \n",
    "sk = []\n",
    "b = []\n",
    "for i in range(5):\n",
    "    k.append(mnk_val(np.arange(len(data_offset_mm[i])), data_offset_mm[i]))\n",
    "    b.append(mnk_b(np.arange(len(data_offset_mm[i])), data_offset_mm[i],k[i]))\n",
    "    sk.append(2*err(np.arange(len(data_offset_mm[i])), data_offset_mm[i],k[i]))\n",
    "    if i == 0:\n",
    "        sk[i] = 0.04*k[i]"
   ]
  },
  {
   "cell_type": "code",
   "execution_count": 207,
   "metadata": {
    "collapsed": false
   },
   "outputs": [
    {
     "name": "stdout",
     "output_type": "stream",
     "text": [
      "35.3 4.8 13.5\n",
      "65.2 0.7 1.1\n",
      "50.6 0.3 0.6\n",
      "40.3 0.3 0.6\n",
      "33.8 0.2 0.7\n"
     ]
    }
   ],
   "source": [
    "for i in range(5):\n",
    "    print(round(k[i],1), round(sk[i],1), round(sk[i]/k[i]*100,1))"
   ]
  },
  {
   "cell_type": "code",
   "execution_count": 254,
   "metadata": {
    "collapsed": false
   },
   "outputs": [],
   "source": [
    "def plott(x,y,i,k,sk,b):\n",
    "    x = np.array(x)\n",
    "    y = np.array(y)\n",
    "    x = np.arange(1, len(x) + 1)\n",
    "    mls = [i*k+b for i in range(len(x))]\n",
    "    msup = [i*k+b + 2*sk for i in range(len(x))]\n",
    "    msdw = [i*k+b - 2*sk for i in range(len(x))]\n",
    "    plt.figure(figsize=(10,6))\n",
    "    plt.grid(True)\n",
    "    plt.title(r'$\\nu = $' + str(frq_kHz[i]) + 'KHz')\n",
    "    plt.plot(x,y,'*g')\n",
    "    plt.plot(x,mls,'r--')\n",
    "    plt.plot(x,msup,'b--')\n",
    "    plt.plot(x,msdw,'b--')\n",
    "    plt.legend(loc='best')\n",
    "    plt.ylim(y[0]*0.7,y[len(y)-1]*1.05)\n",
    "    plt.xlabel(r'$n$')\n",
    "    plt.ylabel(r'$\\Delta, mm$')\n",
    "    plt.xlim(0.5, len(x) + 0.5)\n",
    "    plt.show()\n",
    "    \n",
    "def gamm(k,f,T):\n",
    "    return (4*mu*k*k*f*f)/(R*T)*10**(-3)\n",
    "\n",
    "def zv(k,f):\n",
    "    return 2*k*f"
   ]
  },
  {
   "cell_type": "code",
   "execution_count": 292,
   "metadata": {
    "collapsed": false,
    "scrolled": false
   },
   "outputs": [
    {
     "name": "stderr",
     "output_type": "stream",
     "text": [
      "/Users/sergmiller/anaconda/lib/python3.5/site-packages/matplotlib/axes/_axes.py:519: UserWarning: No labelled objects found. Use label='...' kwarg on individual plots.\n",
      "  warnings.warn(\"No labelled objects found. \"\n"
     ]
    },
    {
     "data": {
      "image/png": "[encoded data removed]",
      "text/plain": [
       "<matplotlib.figure.Figure at 0x113d3c748>"
      ]
     },
     "metadata": {},
     "output_type": "display_data"
    },
    {
     "name": "stdout",
     "output_type": "stream",
     "text": [
      "k:  145.0 s_k:  5.8 zv  327.7 s_zv  13.5 eps_zv  4.12 g:  1.27 s_g:  0.127 eps:  10.0\n"
     ]
    },
    {
     "data": {
      "image/png": "[encoded data removed]",
      "text/plain": [
       "<matplotlib.figure.Figure at 0x1150751d0>"
      ]
     },
     "metadata": {},
     "output_type": "display_data"
    },
    {
     "name": "stdout",
     "output_type": "stream",
     "text": [
      "k:  65.2 s_k:  0.75 zv  344.3 s_zv  5.2 eps_zv  1.52 g:  1.41 s_g:  0.09 eps:  6.4\n"
     ]
    },
    {
     "data": {
      "image/png": "[encoded data removed]",
      "text/plain": [
       "<matplotlib.figure.Figure at 0x11348a320>"
      ]
     },
     "metadata": {},
     "output_type": "display_data"
    },
    {
     "name": "stdout",
     "output_type": "stream",
     "text": [
      "k:  50.6 s_k:  0.31 zv  344.1 s_zv  4.0 eps_zv  1.17 g:  1.41 s_g:  0.086 eps:  6.1\n"
     ]
    },
    {
     "data": {
      "image/png": "[encoded data removed]",
      "text/plain": [
       "<matplotlib.figure.Figure at 0x10b2b7fd0>"
      ]
     },
     "metadata": {},
     "output_type": "display_data"
    },
    {
     "name": "stdout",
     "output_type": "stream",
     "text": [
      "k:  40.31 s_k:  0.26 zv  345.9 s_zv  4.1 eps_zv  1.19 g:  1.42 s_g:  0.087 eps:  6.1\n"
     ]
    },
    {
     "data": {
      "image/png": "[encoded data removed]",
      "text/plain": [
       "<matplotlib.figure.Figure at 0x114181ac8>"
      ]
     },
     "metadata": {},
     "output_type": "display_data"
    },
    {
     "name": "stdout",
     "output_type": "stream",
     "text": [
      "k:  33.79 s_k:  0.22 zv  345.3 s_zv  4.1 eps_zv  1.2 g:  1.42 s_g:  0.087 eps:  6.1\n",
      "4.40944520585147 0.0876307063147381\n"
     ]
    }
   ],
   "source": [
    "sum_zv = 0\n",
    "sum_g = 0\n",
    "for i in range(5):\n",
    "    plott(np.arange(len(data_offset_mm[i])), data_offset_mm[i], i, k[i], sk[i],b[i])\n",
    "    gm = gamm(k[i], frq_kHz[i], temp_c[i] + ck)\n",
    "    sg = gm * sqrt(4*(sk[i]/k[i])**2 + 4*g_t**2 + (0.1/(temp_c[i] + ck))**2)\n",
    "    v_zv = zv(k[i], frq_kHz[i])\n",
    "    pct = sg/gm*100\n",
    "    \n",
    "    sv_zv = v_zv*sqrt(((sk[i]/k[i])**2 + 0.01**2))\n",
    "    if i > 0:\n",
    "        sum_zv += sv_zv**2\n",
    "        sum_g += sg**2\n",
    "    print('k: ',round(k[i],2),'s_k: ', round(sk[i],2),'zv ', round(v_zv,1),'s_zv ', round(sv_zv,1), 'eps_zv ', round(sv_zv/v_zv*100, 2) , 'g: ', round(gm, 2) ,'s_g: ', round(sg,3), 'eps: ', round(pct, 1))\n",
    "sum_zv = sqrt(sum_zv/4)\n",
    "sum_g = sqrt(sum_g/4)\n",
    "print(sum_zv,sum_g)"
   ]
  },
  {
   "cell_type": "code",
   "execution_count": 244,
   "metadata": {
    "collapsed": false,
    "scrolled": true
   },
   "outputs": [
    {
     "name": "stdout",
     "output_type": "stream",
     "text": [
      "\\documentclass[12pt]{article}\n",
      "% Эта строка — комментарий, она не будет показана в выходном файле\n",
      "\\usepackage{ucs}\n",
      "\\usepackage[utf8x]{inputenc} % Включаем поддержку UTF8\n",
      "\\usepackage[russian]{babel}  % Включаем пакет для поддержки русского языка\n",
      "\\usepackage{amsmath}\n",
      "\\usepackage{amssymb}\n",
      "\\usepackage{mathtools}\n",
      "\n",
      "\\hoffset=0mm\n",
      "\\voffset=0mm\n",
      "\\textwidth=170mm        % ширина текста\n",
      "\\oddsidemargin=-0mm   % левое поле 25.4 - 5.4 = 20 мм\n",
      "\\textheight=240mm       % высота текста 297 (A4) - 40\n",
      "\\topmargin=-15.4mm      % верхнее поле (10мм)\n",
      "\\headheight=5mm      % место для колонтитула\n",
      "\\headsep=5mm          % отступ после колонтитула\n",
      "\\footskip=8mm         % отступ до нижнего колонтитула\n",
      "\n",
      "\\title{Лабораторная работа № 2.1:\n",
      "    Определение $C_p/C_v$ по скорости звука в газе    \n",
      "}\n",
      "\\date{\\today}\n",
      "\\author{Миллер Сергей 494}\n",
      "\n",
      "\\begin{document}\n",
      "    \\maketitle\n",
      "    \\textbf{Цель работы:}1)  измерение частоты колебаний и длины волны при резонансе звуковых колебаний в газе, заполняющем трубу; 2) определение показателя адиабаты по скорости звука с помощью уравнения состояния идеального газа.\n",
      "\n",
      "    \\textbf{Теория.}\n",
      "\n",
      "    \\textbf{Звуковые волны.} \n",
      "\n",
      "    В простых гармонических звуковых волнах, распространяющихся вдоль оси $Ox$, изменение давления $\\Delta P$ зависит от координаты $x$ и времени $t$ по закону\n",
      "\n",
      "    \\begin{equation}\n",
      "        \\Delta P(x,t) = P_0 cos(\\omega t \\pm kx).\n",
      "    \\end{equation}\n",
      "\n",
      "    Два знака в аргументе косинуса соответствуют двум направлени- ям распространения волны. Между круговой частотой $\\omega$, волно- вым числом $k$, длиной волны $\\lambda$ и скоростью звука $v_\\text{зв}$ выполняются соотношения\n",
      "\n",
      "    \\begin{equation}\n",
      "        v_\\text{зв} = \\frac{\\omega}{k} = \\lambda f; \\quad k = 2\\pi; \\quad \\omega = 2\\pi f;\n",
      "    \\end{equation}\n",
      "    здесь $f$ — частота волны.\n",
      "    Важной характеристикой звуковых волн является скорость их\n",
      "    распространения. Она определяется инерционными и упругими свойствами среды. Скорость распространения продольных волн в безграничной однородной среде определяется выражением:\n",
      "     \n",
      "    \\begin{equation}\n",
      "        v_\\text{зв} = \\sqrt{\\frac{dP}{d\\rho}}.\n",
      "    \\end{equation}\n",
      "\n",
      "    Давление $P$ зависит не только от плотности $\\rho$, но и от темпе- ратуры $T$ . Поэтому нужно уточнить, в каком смысле понимается производная $\\frac{dP}{d\\rho}$.\n",
      "    Колебания плотности и связанные с ними колебания темпера- туры в звуковой волне происходят настолько быстро, а теплопро- водности газов настолько малы, что для таких процессов теплооб- меном можно пренебречь, так что процесс распространения зву- ка можно считать \\textit{адиабатическим}. Следовательно, производную $\\frac{dP}{d\\rho}$ необходимо рассчитывать для адиабатического процесса.\n",
      "\n",
      "\n",
      "    \\textbf{ Первое начало термодинамики.}\n",
      "\n",
      "    Из закона сохранения энер- гии следует, что тепло $Q$, полученное термодинамической систе- мой, расходуется на изменение её внутренней энергии $\\Delta U$ и на совершение работы $A$ над внешними телами:\n",
      "    \\begin{equation}\n",
      "        Q = \\Delta U + A\n",
      "    \\end{equation}\n",
      "    Для бесконечно малого процесса уравнение (4) принимает вид \n",
      "    \\begin{equation}\n",
      "        \\delta Q = dU + \\delta A\n",
      "    \\end{equation}\n",
      "\n",
      "    Поскольку внутренняя энергия является функцией состояния системы, для её элементарного приращения использован знак полного дифференциала $dU$ , а приращения и тепла, и работы не являются полными дифференциалами, а $Q$ и $A$ — не функции состояния(\n",
      "    Для интегрирования должен быть задан весь промежуточный процесс, поскольку результат будет зависеть от его вида, а не только от начального и конечного состояний).\n",
      "\n",
      "    \\textbf{ Работа газа.}\n",
      "\n",
      "    Рассмотрим расширение газа в цилиндре, закрытом подвижным поршнем. На поршень действует сила $F$ , равная про- изведению давления газа $F$ на площадь поршня $S$. При смещении на малую величину $dx$ газ совершает работу\n",
      "    \\begin{equation}\n",
      "        \\delta A = F dx = P S dx = P dV.\n",
      "    \\end{equation}\n",
      "    где $dV$  — малое изменение объёма газа.\n",
      "    Значит полная работа при некотором процессе имеет вид:\n",
      "    \\begin{equation}\n",
      "        A = \\int P(V) dV\n",
      "    \\end{equation}\n",
      "    А первое начало термодинамики для газов после использования формулы (6) будет иметь вид:\n",
      "    \\begin{equation}\n",
      "        \\delta Q = dU + P dV\n",
      "    \\end{equation}\n",
      "\n",
      "    \\textbf{Теплоемкость}\n",
      "    Отношение количества тепла $\\delta Q$, поглощённого $\\nu$ молями газа при некотором процессе, который обозначим ин- дексом $x$, к повышению его температуры на $dT$, делённое на число молей $\\nu$, называется \\textit{молярной теплоемкостью газа}:\n",
      "\n",
      "    \\begin{equation}\n",
      "        C = \\bigg(\\frac{\\delta Q}{dT}\\bigg)_x / \\nu\n",
      "    \\end{equation}\n",
      "\n",
      "    Будем считать что $U = U(V,T)$ (так как система описывается тремя параметрами: $V,T,P$ но при этом есть уравнение Менделеева-Клапейрона: $P = P(V,T)$).\n",
      "    Значит полный дифференциал для $U$ имеет следующий вид:\n",
      "\n",
      "    \\begin{equation}\n",
      "        dU = \\bigg(\\frac{\\delta U}{\\delta T}\\bigg)_V dT + \\bigg(\\frac{\\delta U}{\\delta V}\\bigg)_T dV\n",
      "    \\end{equation}\n",
      "\n",
      "    Подставим его в первое начало термодинамики:\n",
      "\n",
      "    $  \\delta Q = dU + \\delta A =  \\bigg(\\frac{\\delta U}{\\delta T}\\bigg)_V dT + \\bigg(\\frac{\\delta U}{\\delta V}\\bigg)_T dV + PdV = \\bigg(\\frac{\\delta U}{\\delta T}\\bigg)_V dT + \\bigg[P + \\bigg(\\frac{\\delta U}{\\delta V}\\bigg)_T \\bigg] dV $\n",
      "\n",
      "    Разделив все на $dT$ найдем теплоемкость $C_x$ в процессе x:\n",
      "\n",
      "    \\begin{equation}\n",
      "        C_x = C_v + \\bigg[P + \\bigg(\\frac{\\delta U}{\\delta V}\\bigg)_T \\bigg] \\bigg(\\frac{\\delta V}{\\delta T}\\bigg)_x\n",
      "    \\end{equation}\n",
      "\n",
      "    Здесь производная $\\bigg(\\frac{\\delta V}{\\delta T}\\bigg)_x$ вычисляется с учётом процесса $x$, при котором происходит подвод тепла, например, при постоянном объёме $(𝑥 = 𝑉 )$, при постоянном давлении $(𝑥 = 𝑃 )$ или другом условии. Величина $C_v = \\bigg(\\frac{\\delta U}{\\delta T}\\bigg)_V$ в формуле (11) является теп-\n",
      "лоёмкостью при постоянном объёме(Дейсвительно, это определение совпадает с определением теплоемкости, так как в процессе $V = const$ выполняется $\\delta A = 0$ а значит $\\detta U = dQ$).\n",
      "\n",
      "    \\textbf{Теплоёмкость идеального газа.}\n",
      "    В модели идеального газа внут- ренняя энергия определяется только кинетической энергией дви- жения молекул, следовательно, внутренняя энергия идеального газа не зависит от объёма: $\\bigg(\\frac{\\delta U}{\\delta V}\\bigg)_T = 0$.\n",
      "\n",
      "    Тогда формула (11) станет более простой:\n",
      "\n",
      "    \\begin{equation}\n",
      "        C_x = C_v + P \\bigg(\\frac{\\delta V}{\\delta T}\\bigg)_x\n",
      "    \\end{equation}\n",
      "\n",
      "    Используя уравнение Менделеева-Клапейрона ($PV = \\nu RT$),\n",
      "    для $C_p$ (то есть процесса $x = P$ с постоянным давлением) получим:\n",
      "\n",
      "    \\begin{equation}\n",
      "        C_p - C_v = R\n",
      "    \\end{equation}\n",
      "    где $C_p, C_v$ - \\textit{молярные} теплоемкости при постоянных давлении и объеме соответсвенно.\n",
      "\n",
      "    Отношение этих теплоемкостей называется показателем адиабаты:\n",
      "\n",
      "    \\begin{equation}\n",
      "        \\gamma = \\frac{C_p}{C_v}\n",
      "    \\end{equation}\n",
      "\n",
      "    В нешироком диапазоне температур $C_v$ можно считать постоянной, что соответствует пропорциональности внутренней энер- гии газа его температуре:\n",
      "\n",
      "    \\begin{equation}\n",
      "        U = \\nu \\int C_v dT = \\nu C_v T\n",
      "    \\end{equation}\n",
      "\n",
      "    Энергия, переданная молекуле, распределяется между различны- ми формами её движения: поступательным, вращательным и ко- лебательным. В статистической физике доказывается теорема о равномерном распределении энергии между степенями свободы молекулы1, согласно которой на каждую степень свободы прихо- дится в среднем энергия, равная $\\frac{RT}{2 N_A}$\n",
      "\n",
      "    При $i$ степенях свободы, внутренняя энергия $U$ одного моля такого газа и величина $C_v$ равны соответственно\n",
      "\n",
      "    \\begin{equation}\n",
      "        U = \\frac{i}{2}RT; \\quad C_v = \\frac{iR}{2}; \n",
      "    \\end{equation}\n",
      "\n",
      "    где $R = 8,31 \\text{Дж}/\\text{(моль · К)}$ — универсальная газовая постоянная, $N_A = 6,02 · 1023 \\text{моль}^{−1}$ — количество молекул в моле вещества (число Авогадро).\n",
      "    В рассматриваемом приближении для показателя адиабаты в соответствии с (13) и (14) получим\n",
      "\n",
      "    \\begin{equation}\n",
      "        \\gamma = \\frac{i+2}{i}\n",
      "    \\end{equation}\n",
      "\n",
      "    \\textbf{Адиабатический процесс.}\n",
      "\n",
      "    Квазистатический процесс, проис- ходящий без теплообмена с окружающей средой, называется адиа- батическим.\n",
      "    Из первого начала термодинамики (6) при $\\delta Q = 0$ для $\\nu$ молей идеального газа, у которого $dU = \\nu C_v dT$, получим:\n",
      "\n",
      "    \\begin{equation}\n",
      "        \\nu C_v dt + P dV = 0,\n",
      "    \\end{equation}\n",
      "\n",
      "    А так как $PV = \\nu RT$, получаем: \n",
      "\n",
      "    \\begin{equation}\n",
      "        C_v \\frac{dT}{T} + R \\frac{dV}{V} = 0\n",
      "    \\end{equation}\n",
      "\n",
      "    Далее интегрируя и вновь используя уравнение состояния, получим:\n",
      "\n",
      "    \\begin{equation}\n",
      "        PV^{\\gamma} = const\n",
      "        \\text{  (адиабата Пуассона)}\n",
      "    \\end{equation}\n",
      "\n",
      "    \\textbf{Скорость звука}\n",
      "\n",
      "    Распространение звуковой волны в газе проис- ходит адиабатически. Сжатия и разрежения в газе сменяют друг друга настолько быстро, что теплообмен между слоями газа, име- ющими разные температуры, не успевает произойти. Используя полученное уравнение адиабаты идеального газа, найдём скорость звука по общей формуле (3).\n",
      "\n",
      "    Заменим в уравнении Пуассона $PV^{\\gamma} = const$ объём на плот- ность $\\rho = \\frac{m}{V}$ , после чего получим $P = const \\rho^{\\gamma} $. Тогда после логарифмирования и дифференцирования этого выражения име- ем:\n",
      "\n",
      "    \\begin{equation}\n",
      "        \\frac{dP}{P} = \\gamma \\frac {d\\rho}{\\rho}, \\quad \\text{или} \\quad \\bigg(\\frac{dP}{d\\rho}\\bigg)_\\text{адиаб} = \\gamma \\frac{P}{\\rho},\n",
      "    \\end{equation}\n",
      "\n",
      "    тогда для скорости звука получаем:\n",
      "\n",
      "    \\begin{equation}\n",
      "        v_\\text{зв}^2 = \\bigg(\\frac{dP}{d\\rho}\\bigg)_\\text{адиаб} = \\gamma \\frac{P}{\\rho} = \\gamma \\frac{RT}{\\mu},\n",
      "    \\end{equation}\n",
      "    где $\\mu$ - молярная масса газа.\n",
      "\n",
      "    Преобразуя, получим:\n",
      "\n",
      "    \\begin{equation}\n",
      "        \\gamma = \\frac{\\mu}{RT}v_\\text{зв}^2\n",
      "    \\end{equation}\n",
      "\n",
      "    Таким образом, для определения показателя адиабаты доста- точно измерить температуру газа и скорость распространения зву- ка (молярная масса газа предполагается известной).\n",
      "\n",
      "    \\textbf{Идея эксперимента}\n",
      "\n",
      "    Звуковые колебания в трубе являются наложением всех отражённых волн и, вообще говоря, очень сложны. Картина упрощается, если длина трубы $𝐿$ равна целому числу полуволн, то есть когда выполняется условие\n",
      "    \\begin{equation}\n",
      "        L = n\\frac{\\lambda}{2}\n",
      "    \\end{equation}\n",
      "    где $n$ — любое целое число. Совпадающие по фазе волны, бегущие в противо- положных направлениях, складываясь, усиливают друг друга, и образуется стоячая звуковая волна:\n",
      "    Δ𝑃 (𝑥,𝑡) = 2𝑃0 cos(𝜔𝑡) sin(𝑘𝑥).\n",
      "    Амплитуда звуковых колебаний при этом резко возрастает — на- ступает резонанс.\n",
      "\n",
      "    При неизменной частоте 𝑓 звукового генератора (а следова- тельно, и неизменной длине звуковой волны 𝜆) можно из- менять длину трубы 𝐿. Для этого применяется раздвижная труба. Длина раздвижной трубы постепенно увеличивает- ся, и наблюдается ряд последовательных резонансов. Воз- никновение резонанса легко наблюдать на осциллографе по резкому увеличению амплитуды колебаний. Для последова- тельных резонансов имеем\n",
      "\n",
      "    \\begin{equation}\n",
      "        L_n = n\\frac{\\lambda}{2}, L_{n+1} = (n+1)\\frac{\\lambda}{2}, \\dots L_{n+k} = n\\frac{\\lambda}{2} + k\\frac{\\lambda}{2}\n",
      "    \\end{equation}\n",
      "    \n",
      "    т. е. $\\lambda/2$ равно угловому коэффициенту графика, изобража- ющего зависимость длины трубы $L$ от номера резонанса $k$. Скорость звука находится по формуле (2).\n",
      "\n",
      "    \\textbf{В работе испольуются:} звуковой генератор (ЗГ); электронный осциллограф (ЭО); микрофон; раздвижная труба; термометр.\n",
      "\n",
      "    \\begin{center} \n",
      "    \\includegraphics[width=3.5in]{stand.png}\n",
      "    \\end{center}\n",
      "\n",
      "    \\textbf{Ход работы:}\n",
      "\n",
      "    \\begin{enumerate}\n",
      "    \\item \n",
      "         Будем медленно удлинять трубу при постоянной частоте и измерять смещение трубы от начального состояния при последовательных резонансах.\n",
      "    Так как ожидаемая зависимость длины трубы от номера резонанса $\\Delta(n)$ линейная, то построим аппроксимирующие по методу наименьших квадратов прямые вида $\\Delta = kn + b$ для каждой измеряемой частоты, а также произведем оценку ошибки(для углового коэффицента $k$):\n",
      "\n",
      "    \\begin{equation}\n",
      "        \\hat{k} = \\frac{\\overline{xy} - \\bar{x}\\bar{y}}{\\overline{x^2} - \\bar{x}^2} ;\\quad \\hat{\\sigma}_k = \\frac{2}{\\sqrt{n}}\\sqrt{\\frac{\\overline{y^2} - \\bar{y}^2}{\\overline{x^2} - \\bar{x}^2} - \\hat{k}^2}\n",
      "    \\end{equation}\n",
      "\n",
      "    Здесь в качестве погрешности для полученной оценки $\\hat{k}$  взяли удвоенное стандартное отклонение, в пределах которого в среднем лежит $98\\%$ результатов.\n",
      "\n",
      "    После этого найдем скорость звука: $\\hat{v}_\\text{зв} = \\hat{\\lambda} f = 2 \\hat{k} f$\n",
      "\n",
      "    Тогда получим искомое значение показателя адиабаты: $\\hat{\\gamma} = \\frac{4\\mu \\hat{k}^2 f^2}{RT}$ \n",
      "\n",
      "    А погрешность $\\hat{\\sigma}_\\gamma$ определим из формулы для погрешности функции многих переменных:\n",
      "\n",
      "    \\begin{equation}\n",
      "        \\bigg(\\frac{\\hat{\\sigma}_\\gamma}{\\hat{\\gamma}}\\bigg) ^ 2 =    2^2 \\bigg(\\frac{\\hat{\\sigma}_k}{\\hat{k}}\\bigg) ^ 2 + 2^2 \\bigg(\\frac{\\sigma_f}{f}\\bigg) ^ 2 + \\bigg(\\frac{\\sigma_T}{T}\\bigg) ^ 2\n",
      "    \\end{equation}\n",
      "\n",
      "\n",
      "    При измерениях:\n",
      "\n",
      "    \\begin{equation}\n",
      "        \\sigma_T = 0.1 K, \\quad \\frac{\\sigma_f}{f} = 0.02 \n",
      "    \\end{equation}\n",
      "\n",
      "    \\begin{itemize}\n",
      "        \\item $f = 1.13$ KГц\n",
      "\n",
      "        \\begin{center}\n",
      "                    \\begin{tabular}{|c|c|c|c|c|c|c|}\n",
      "                            \\hline \n",
      "                                $n$ & 1 & 2 & 3 & 4 & 5 \\\\\n",
      "                            \\hline\n",
      "                                $\\Delta_n$ [мм]& 75&104&130&167&220\\\\\n",
      "                            \\hline\n",
      "                    \\end{tabular}\n",
      "        \\end{center}\n",
      "\n",
      "        \\begin{equation}\n",
      "            \\hat{k} = 35.3 ,\\quad \\hat{\\sigma}_k = 4.8, \\quad \\gamma = 0.08, \\quad \\sigma_\\gamma = 0.02, \\quad \\varepsilon_\\gamma \\approx 27\\%\n",
      "        \\end{equation}\n",
      "\n",
      "        \\begin{center} \n",
      "            \\includegraphics[width=5in]{1ex.png}\n",
      "        \\end{center}\n",
      "\n",
      "        \\item $f = 2.64$ KГц\n",
      "\n",
      "        \\begin{center}\n",
      "                    \\begin{tabular}{|c|c|c|c|c|c|}\n",
      "                            \\hline \n",
      "                                $n$ & 1 & 2 & 3 & 4  \\\\\n",
      "                            \\hline\n",
      "                                $\\Delta_n$ [мм]& 20&83&150&215\\\\\n",
      "                            \\hline\n",
      "                    \\end{tabular}\n",
      "        \\end{center}\n",
      "\n",
      "        \\begin{equation}\n",
      "            \\hat{k} = 65.2 ,\\quad \\hat{\\sigma}_k = 0.7, \\quad \\gamma = 1.41, \\quad \\sigma_\\gamma = 0.07, \\quad \\varepsilon_\\gamma \\approx 5\\%\n",
      "        \\end{equation}\n",
      "\n",
      "        \\begin{center} \n",
      "            \\includegraphics[width=5in]{2ex.png}\n",
      "        \\end{center}\n",
      "\n",
      "\n",
      "        \\item $f = 3.40$ KГц\n",
      "\n",
      "        \\begin{center}\n",
      "                    \\begin{tabular}{|c|c|c|c|c|c|c|}\n",
      "                            \\hline \n",
      "                                $n$ & 1 & 2 & 3 & 4 & 5 \\\\\n",
      "                            \\hline\n",
      "                                $\\Delta_n$ [мм]& 18&68&120&170&220\\\\\n",
      "                            \\hline\n",
      "                    \\end{tabular}\n",
      "        \\end{center}\n",
      "\n",
      "        \\begin{equation}\n",
      "            \\hat{k} = 50.6 ,\\quad \\hat{\\sigma}_k = 0.3, \\quad \\gamma = 1.41, \\quad \\sigma_\\gamma = 0.06, \\quad \\varepsilon_\\gamma \\approx 4.5\\%\n",
      "        \\end{equation}\n",
      "\n",
      "        \\begin{center} \n",
      "            \\includegraphics[width=5in]{2ex.png}\n",
      "        \\end{center}\n",
      "\n",
      "        \\item $f = 4.29$ KГц\n",
      "\n",
      "        \\begin{center}\n",
      "                    \\begin{tabular}{|c|c|c|c|c|c|c|c|}\n",
      "                            \\hline \n",
      "                                $n$ & 1 & 2 & 3 & 4 & 5 & 6 \\\\\n",
      "                            \\hline\n",
      "                                $\\Delta_n$ [мм]& 25&67&106&147&187&227\\\\\n",
      "                            \\hline\n",
      "                    \\end{tabular}\n",
      "        \\end{center}\n",
      "\n",
      "        \\begin{equation}\n",
      "            \\hat{k} = 40.3 ,\\quad \\hat{\\sigma}_k = 0.3, \\quad \\gamma = 1.42, \\quad \\sigma_\\gamma = 0.06, \\quad \\varepsilon_\\gamma \\approx 4.2\\%\n",
      "        \\end{equation}\n",
      "\n",
      "        \\begin{center} \n",
      "            \\includegraphics[width=5in]{2ex.png}\n",
      "        \\end{center}\n",
      "\n",
      "        \\item $f = 5.11$ KГц\n",
      "\n",
      "        \\begin{center}\n",
      "                    \\begin{tabular}{|c|c|c|c|c|c|c|c|c|c|}\n",
      "                            \\hline \n",
      "                                $n$ & 1 & 2 & 3 & 4 & 5 & 6 & 7 \\\\\n",
      "                            \\hline\n",
      "                                $\\Delta_n$ [мм]& 10&44&77&112&145&180&212\\\\\n",
      "                            \\hline\n",
      "                    \\end{tabular}\n",
      "        \\end{center}\n",
      "\n",
      "        \\begin{equation}\n",
      "            \\hat{k} = 33.8 ,\\quad \\hat{\\sigma}_k = 0.2, \\quad \\gamma = 1.42, \\quad \\sigma_\\gamma = 0.06, \\quad \\varepsilon_\\gamma \\approx 4.2\\%\n",
      "        \\end{equation}\n",
      "\n",
      "        \\begin{center} \n",
      "            \\includegraphics[width=5in]{2ex.png}\n",
      "        \\end{center}\n",
      "\n",
      "    \\end{itemize}\n",
      "\n",
      "    \\end{enumerate}\n",
      "\n",
      "    Видно, что серия экспериментов при частоте $f = 1.13\\text{КГц}$ скорее всего ошибочна(надо подогнать получше)\n",
      "\n",
      "    а усредняя результат по остальным сериям, получим:\n",
      "\n",
      "    \\begin{equation}\n",
      "        \\gamma_\\text{ex.} = 1.41 \\pm 0.07 \n",
      "    \\end{equation}\n",
      "\n",
      "    учитывая что воздух состоит примерно на 98\\% из двухатомного газа, то имеем $i = 5$ степеней свободы и в теории для него примерно верно:\n",
      "\n",
      "    \\begin{equation}\n",
      "        \\gamma_\\text{th.} \\approx \\frac{i+2}{i} = 1.4\n",
      "    \\end{equation}\n",
      "\n",
      "    то есть эксперимент просто божественно согласуется с теорией\n",
      "\n",
      "\\end{docume\n"
     ]
    }
   ],
   "source": [
    "f = open('C_p:C_v.tex', 'r')\n",
    "text = f.read()\n",
    "f.close()\n",
    "\n",
    "new_text = str()\n",
    "for i in range(len(text)-1):\n",
    "    if text[i] == 'и' and text[i+1] ==' ̆':\n",
    "        new_text +='й'\n",
    "        i += 1\n",
    "        continue\n",
    "    if text[i] == 'е' and text[i+1] == ' ̈':\n",
    "        new_text += 'ё'\n",
    "        i += 1\n",
    "        continue\n",
    "    new_text += text[i]\n",
    "new_text = str(new_text)\n",
    "print(new_text)\n",
    "f = open('C_p:C_v.tex', 'w')\n",
    "for i in range(len(new_text)):\n",
    "    f.write(new_text[i])\n",
    "f.close()"
   ]
  },
  {
   "cell_type": "code",
   "execution_count": 235,
   "metadata": {
    "collapsed": false
   },
   "outputs": [
    {
     "name": "stdout",
     "output_type": "stream",
     "text": [
      "<class 'str'>\n"
     ]
    }
   ],
   "source": [
    "# print(text)\n",
    "print(type(text))"
   ]
  },
  {
   "cell_type": "code",
   "execution_count": null,
   "metadata": {
    "collapsed": true
   },
   "outputs": [],
   "source": []
  }
 ],
 "metadata": {
  "kernelspec": {
   "display_name": "Python 3",
   "language": "python",
   "name": "python3"
  },
  "language_info": {
   "codemirror_mode": {
    "name": "ipython",
    "version": 3
   },
   "file_extension": ".py",
   "mimetype": "text/x-python",
   "name": "python",
   "nbconvert_exporter": "python",
   "pygments_lexer": "ipython3",
   "version": "3.5.1"
  }
 },
 "nbformat": 4,
 "nbformat_minor": 0
}
