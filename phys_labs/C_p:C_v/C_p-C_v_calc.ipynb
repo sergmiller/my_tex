{
 "cells": [
  {
   "cell_type": "code",
   "execution_count": 42,
   "metadata": {
    "collapsed": true
   },
   "outputs": [],
   "source": [
    "import math\n",
    "import numpy as np\n",
    "import scipy.stats as sps\n",
    "import matplotlib.pyplot as plt\n",
    "from sympy import *\n",
    "from matplotlib import cm\n",
    "from scipy.stats import multivariate_normal\n",
    "from matplotlib import rcParams\n",
    "from mpl_toolkits.mplot3d import Axes3D\n",
    "from matplotlib.ticker import LinearLocator, FormatStrFormatter\n",
    "from scipy import integrate\n",
    "from sklearn.datasets import load_iris\n",
    "%matplotlib inline"
   ]
  },
  {
   "cell_type": "code",
   "execution_count": null,
   "metadata": {
    "collapsed": true
   },
   "outputs": [],
   "source": [
    "L_sm = 700\n",
    "frq_kHz = [1.13,2.64, 3.4, 4.29, 5.11]\n",
    "data_offset_mm = [\n",
    "    list([220,167,130,104,75]), \n",
    "    list([215,150,83,20]), \n",
    "    list([220,170,120,68,18]), \n",
    "    list([227,187,147,106,67,25]),\n",
    "    list([212,180,145,112,77,44,10]), \n",
    "]\n",
    "temp_c = [21.6, 21.6, 21.2, 21.2, 21.2]"
   ]
  },
  {
   "cell_type": "code",
   "execution_count": 28,
   "metadata": {
    "collapsed": false
   },
   "outputs": [],
   "source": [
    "for i in range(5):\n",
    "    data_offset_mm[i].reverse()"
   ]
  },
  {
   "cell_type": "code",
   "execution_count": 39,
   "metadata": {
    "collapsed": false
   },
   "outputs": [
    {
     "name": "stdout",
     "output_type": "stream",
     "text": [
      "75&104&130&167&220&\n",
      "20&83&150&215&\n",
      "18&68&120&170&220&\n",
      "25&67&106&147&187&227&\n",
      "10&44&77&112&145&180&212&\n"
     ]
    }
   ],
   "source": [
    "for i in range(5):\n",
    "    for j in range(len(data_offset_mm[i])):\n",
    "        print(data_offset_mm[i][j], end='&')\n",
    "    print()"
   ]
  },
  {
   "cell_type": "code",
   "execution_count": 46,
   "metadata": {
    "collapsed": false
   },
   "outputs": [],
   "source": [
    "data_xy = []"
   ]
  },
  {
   "cell_type": "code",
   "execution_count": 48,
   "metadata": {
    "collapsed": false
   },
   "outputs": [],
   "source": []
  },
  {
   "cell_type": "code",
   "execution_count": 49,
   "metadata": {
    "collapsed": false
   },
   "outputs": [
    {
     "name": "stdout",
     "output_type": "stream",
     "text": [
      "[[75, 104, 130, 167, 220], [20, 83, 150, 215], [18, 68, 120, 170, 220], [25, 67, 106, 147, 187, 227], [10, 44, 77, 112, 145, 180, 212]]\n"
     ]
    }
   ],
   "source": []
  },
  {
   "cell_type": "code",
   "execution_count": null,
   "metadata": {
    "collapsed": true
   },
   "outputs": [],
   "source": []
  }
 ],
 "metadata": {
  "kernelspec": {
   "display_name": "Python 3",
   "language": "python",
   "name": "python3"
  },
  "language_info": {
   "codemirror_mode": {
    "name": "ipython",
    "version": 3
   },
   "file_extension": ".py",
   "mimetype": "text/x-python",
   "name": "python",
   "nbconvert_exporter": "python",
   "pygments_lexer": "ipython3",
   "version": "3.5.1"
  }
 },
 "nbformat": 4,
 "nbformat_minor": 0
}
