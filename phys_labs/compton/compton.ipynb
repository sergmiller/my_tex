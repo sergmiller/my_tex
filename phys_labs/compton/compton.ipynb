{
 "cells": [
  {
   "cell_type": "code",
   "execution_count": 75,
   "metadata": {
    "collapsed": false
   },
   "outputs": [],
   "source": [
    "import numpy as np\n",
    "import pandas as pd\n",
    "import matplotlib.pyplot as plt\n",
    "import scipy.stats as sps\n",
    "plt.style.use('ggplot')\n",
    "from sympy import *\n",
    "import copy\n",
    "import re\n",
    "from matplotlib import cm\n",
    "from scipy import sparse\n",
    "import scipy.sparse as sprs\n",
    "from sklearn.svm import SVC\n",
    "from sklearn.linear_model import LinearRegression\n",
    "from sklearn.metrics import roc_auc_score\n",
    "from sklearn import cross_validation\n",
    "\n",
    "from joblib import Parallel, delayed\n",
    "import multiprocessing\n",
    "from sklearn.model_selection import GridSearchCV\n",
    "%matplotlib inline"
   ]
  },
  {
   "cell_type": "code",
   "execution_count": 50,
   "metadata": {
    "collapsed": false
   },
   "outputs": [],
   "source": [
    "data = []\n",
    "data.append(pd.read_csv('data1.txt',delimiter='\\\\s+'))\n",
    "data.append(pd.read_csv('data2.txt',delimiter='\\\\s+'))\n",
    "data1 = pd.read_csv('data.txt',delimiter='\\\\s+')"
   ]
  },
  {
   "cell_type": "code",
   "execution_count": null,
   "metadata": {
    "collapsed": false
   },
   "outputs": [],
   "source": []
  },
  {
   "cell_type": "code",
   "execution_count": 46,
   "metadata": {
    "collapsed": false
   },
   "outputs": [
    {
     "data": {
      "text/html": [
       "<div>\n",
       "<table border=\"1\" class=\"dataframe\">\n",
       "  <thead>\n",
       "    <tr style=\"text-align: right;\">\n",
       "      <th></th>\n",
       "      <th>angle</th>\n",
       "      <th>channel</th>\n",
       "      <th>counter</th>\n",
       "      <th>time</th>\n",
       "      <th>particles</th>\n",
       "      <th>frequency</th>\n",
       "    </tr>\n",
       "  </thead>\n",
       "  <tbody>\n",
       "    <tr>\n",
       "      <th>0</th>\n",
       "      <td>10</td>\n",
       "      <td>960</td>\n",
       "      <td>100707</td>\n",
       "      <td>328</td>\n",
       "      <td>2379088</td>\n",
       "      <td>7253,3</td>\n",
       "    </tr>\n",
       "    <tr>\n",
       "      <th>1</th>\n",
       "      <td>30</td>\n",
       "      <td>902</td>\n",
       "      <td>129761</td>\n",
       "      <td>759</td>\n",
       "      <td>486377</td>\n",
       "      <td>640,8</td>\n",
       "    </tr>\n",
       "    <tr>\n",
       "      <th>2</th>\n",
       "      <td>40</td>\n",
       "      <td>846</td>\n",
       "      <td>97175</td>\n",
       "      <td>645</td>\n",
       "      <td>330154</td>\n",
       "      <td>511,9</td>\n",
       "    </tr>\n",
       "    <tr>\n",
       "      <th>3</th>\n",
       "      <td>50</td>\n",
       "      <td>727</td>\n",
       "      <td>68452</td>\n",
       "      <td>526</td>\n",
       "      <td>229280</td>\n",
       "      <td>435,9</td>\n",
       "    </tr>\n",
       "    <tr>\n",
       "      <th>4</th>\n",
       "      <td>60</td>\n",
       "      <td>641</td>\n",
       "      <td>39059</td>\n",
       "      <td>313</td>\n",
       "      <td>120892</td>\n",
       "      <td>386,2</td>\n",
       "    </tr>\n",
       "    <tr>\n",
       "      <th>5</th>\n",
       "      <td>70</td>\n",
       "      <td>555</td>\n",
       "      <td>32099</td>\n",
       "      <td>289</td>\n",
       "      <td>101149</td>\n",
       "      <td>350</td>\n",
       "    </tr>\n",
       "    <tr>\n",
       "      <th>6</th>\n",
       "      <td>90</td>\n",
       "      <td>472</td>\n",
       "      <td>16317</td>\n",
       "      <td>158</td>\n",
       "      <td>47566</td>\n",
       "      <td>301,1</td>\n",
       "    </tr>\n",
       "  </tbody>\n",
       "</table>\n",
       "</div>"
      ],
      "text/plain": [
       "   angle  channel  counter  time  particles frequency\n",
       "0     10      960   100707   328    2379088    7253,3\n",
       "1     30      902   129761   759     486377     640,8\n",
       "2     40      846    97175   645     330154     511,9\n",
       "3     50      727    68452   526     229280     435,9\n",
       "4     60      641    39059   313     120892     386,2\n",
       "5     70      555    32099   289     101149       350\n",
       "6     90      472    16317   158      47566     301,1"
      ]
     },
     "execution_count": 46,
     "metadata": {},
     "output_type": "execute_result"
    }
   ],
   "source": [
    "data[0]"
   ]
  },
  {
   "cell_type": "code",
   "execution_count": 52,
   "metadata": {
    "collapsed": false
   },
   "outputs": [
    {
     "data": {
      "text/html": [
       "<div>\n",
       "<table border=\"1\" class=\"dataframe\">\n",
       "  <thead>\n",
       "    <tr style=\"text-align: right;\">\n",
       "      <th></th>\n",
       "      <th>angle</th>\n",
       "      <th>channel</th>\n",
       "      <th>counter</th>\n",
       "      <th>time</th>\n",
       "      <th>particles</th>\n",
       "      <th>frequency</th>\n",
       "    </tr>\n",
       "  </thead>\n",
       "  <tbody>\n",
       "    <tr>\n",
       "      <th>0</th>\n",
       "      <td>10</td>\n",
       "      <td>845</td>\n",
       "      <td>230443</td>\n",
       "      <td>320</td>\n",
       "      <td>2330233</td>\n",
       "      <td>7282,1</td>\n",
       "    </tr>\n",
       "    <tr>\n",
       "      <th>1</th>\n",
       "      <td>40</td>\n",
       "      <td>663</td>\n",
       "      <td>228349</td>\n",
       "      <td>1009</td>\n",
       "      <td>346077</td>\n",
       "      <td>343</td>\n",
       "    </tr>\n",
       "    <tr>\n",
       "      <th>2</th>\n",
       "      <td>55</td>\n",
       "      <td>512</td>\n",
       "      <td>71833</td>\n",
       "      <td>375</td>\n",
       "      <td>103802</td>\n",
       "      <td>276,8</td>\n",
       "    </tr>\n",
       "    <tr>\n",
       "      <th>3</th>\n",
       "      <td>60</td>\n",
       "      <td>485</td>\n",
       "      <td>97667</td>\n",
       "      <td>525</td>\n",
       "      <td>136843</td>\n",
       "      <td>260,7</td>\n",
       "    </tr>\n",
       "    <tr>\n",
       "      <th>4</th>\n",
       "      <td>70</td>\n",
       "      <td>443</td>\n",
       "      <td>86014</td>\n",
       "      <td>503</td>\n",
       "      <td>119912</td>\n",
       "      <td>238,4</td>\n",
       "    </tr>\n",
       "    <tr>\n",
       "      <th>5</th>\n",
       "      <td>80</td>\n",
       "      <td>380</td>\n",
       "      <td>48377</td>\n",
       "      <td>304</td>\n",
       "      <td>67479</td>\n",
       "      <td>222</td>\n",
       "    </tr>\n",
       "    <tr>\n",
       "      <th>0</th>\n",
       "      <td>0</td>\n",
       "      <td>892</td>\n",
       "      <td>621250</td>\n",
       "      <td>810</td>\n",
       "      <td>6444731</td>\n",
       "      <td>7956,5</td>\n",
       "    </tr>\n",
       "    <tr>\n",
       "      <th>1</th>\n",
       "      <td>2</td>\n",
       "      <td>885</td>\n",
       "      <td>221302</td>\n",
       "      <td>306</td>\n",
       "      <td>2476937</td>\n",
       "      <td>8094,6</td>\n",
       "    </tr>\n",
       "  </tbody>\n",
       "</table>\n",
       "</div>"
      ],
      "text/plain": [
       "   angle  channel  counter  time  particles frequency\n",
       "0     10      845   230443   320    2330233    7282,1\n",
       "1     40      663   228349  1009     346077       343\n",
       "2     55      512    71833   375     103802     276,8\n",
       "3     60      485    97667   525     136843     260,7\n",
       "4     70      443    86014   503     119912     238,4\n",
       "5     80      380    48377   304      67479       222\n",
       "0      0      892   621250   810    6444731    7956,5\n",
       "1      2      885   221302   306    2476937    8094,6"
      ]
     },
     "execution_count": 52,
     "metadata": {},
     "output_type": "execute_result"
    }
   ],
   "source": [
    "data[1]"
   ]
  },
  {
   "cell_type": "code",
   "execution_count": 51,
   "metadata": {
    "collapsed": false
   },
   "outputs": [],
   "source": [
    "data[1] = pd.concat([data[1],data1],axis=0)"
   ]
  },
  {
   "cell_type": "code",
   "execution_count": 186,
   "metadata": {
    "collapsed": true
   },
   "outputs": [],
   "source": [
    "s_ch = 20/500\n",
    "mc2 = 0.511 * 1e6"
   ]
  },
  {
   "cell_type": "code",
   "execution_count": 187,
   "metadata": {
    "collapsed": false
   },
   "outputs": [
    {
     "name": "stderr",
     "output_type": "stream",
     "text": [
      "/Users/sergmiller/anaconda3/lib/python3.6/site-packages/ipykernel/__main__.py:10: FutureWarning: reshape is deprecated and will raise in a subsequent release. Please use .values.reshape(...) instead\n",
      "/Users/sergmiller/anaconda3/lib/python3.6/site-packages/ipykernel/__main__.py:15: FutureWarning: reshape is deprecated and will raise in a subsequent release. Please use .values.reshape(...) instead\n"
     ]
    },
    {
     "name": "stdout",
     "output_type": "stream",
     "text": [
      "data0 N_0, N_90: [ 1028.80563987   467.35481238]\n",
      "E_y: 613883.424865\n",
      "data1 N_0, N_90: [ 1012.78173328   467.64719336]\n",
      "E_y: 595670.740374\n",
      "0.06297052154195011\n"
     ]
    },
    {
     "data": {
      "image/png": "[encoded data removed]",
      "text/plain": [
       "<matplotlib.figure.Figure at 0x10b265dd8>"
      ]
     },
     "metadata": {},
     "output_type": "display_data"
    }
   ],
   "source": [
    "plt.figure(figsize=(15,10))\n",
    "c = ['red','blue']\n",
    "delta = 0\n",
    "for i in range(2):\n",
    "    if i == 1:\n",
    "        delta = 141\n",
    "    clf = LinearRegression()\n",
    "    Y = 1/(data[i]['channel'] + delta)\n",
    "    X = 1 - np.cos(data[i]['angle']/180*np.pi)\n",
    "    clf.fit(X.reshape((len(X),1)), Y)\n",
    "    Ns = 1/clf.predict([[0],[1]])\n",
    "    Ey = mc2*(Ns[0] - Ns[1])/Ns[1]\n",
    "    print('data' + str(i) + ' N_0, N_90: ' + str(Ns))\n",
    "    print('E_y: ' + str(Ey))\n",
    "    y_pred = clf.predict(X.reshape((len(X),1)))\n",
    "    s_g = Y*s_ch\n",
    "    plt.plot(X, Y,'*',color=c[i])\n",
    "    plt.errorbar(X, Y, fmt='*',\n",
    "                 yerr=s_g,xerr= 4*2*X/data[i]['angle'])\n",
    "    plt.plot(X, y_pred,'green')\n",
    "plt.ylabel(r'$\\frac{1}{N(\\theta)}$')\n",
    "plt.xlabel(r'$1-cos(\\theta)$')\n",
    "print(np.mean(2/data[0]['angle']))"
   ]
  },
  {
   "cell_type": "code",
   "execution_count": 148,
   "metadata": {
    "collapsed": false
   },
   "outputs": [
    {
     "data": {
      "image/png": "[encoded data removed]",
      "text/plain": [
       "<matplotlib.figure.Figure at 0x10b2da588>"
      ]
     },
     "metadata": {},
     "output_type": "display_data"
    }
   ],
   "source": [
    "plt.figure(figsize=(15,10))\n",
    "delta = 0\n",
    "mp = dict()\n",
    "for i in range(2):\n",
    "    if i == 1:\n",
    "        delta = 141\n",
    "    a = np.array(data[i]['angle'])\n",
    "    c = np.array(data[i]['channel'])\n",
    "    plt.plot(a, c + delta,'*')"
   ]
  },
  {
   "cell_type": "code",
   "execution_count": 147,
   "metadata": {
    "collapsed": false,
    "scrolled": true
   },
   "outputs": [
    {
     "data": {
      "text/plain": [
       "141.5"
      ]
     },
     "execution_count": 147,
     "metadata": {},
     "output_type": "execute_result"
    }
   ],
   "source": [
    "mn = [115,183,156,112]\n",
    "np.mean(mn)"
   ]
  },
  {
   "cell_type": "code",
   "execution_count": 168,
   "metadata": {
    "collapsed": true
   },
   "outputs": [],
   "source": [
    "N1 = 0.0265*1500 + 371.17\n",
    "N2 = 0.3274*1500 + 187.45"
   ]
  },
  {
   "cell_type": "code",
   "execution_count": 172,
   "metadata": {
    "collapsed": false
   },
   "outputs": [
    {
     "data": {
      "text/plain": [
       "(678.55, 678.55)"
      ]
     },
     "execution_count": 172,
     "metadata": {},
     "output_type": "execute_result"
    }
   ],
   "source": [
    "N2,N2"
   ]
  },
  {
   "cell_type": "code",
   "execution_count": null,
   "metadata": {
    "collapsed": true
   },
   "outputs": [],
   "source": []
  }
 ],
 "metadata": {
  "kernelspec": {
   "display_name": "Python 3",
   "language": "python",
   "name": "python3"
  },
  "language_info": {
   "codemirror_mode": {
    "name": "ipython",
    "version": 3
   },
   "file_extension": ".py",
   "mimetype": "text/x-python",
   "name": "python",
   "nbconvert_exporter": "python",
   "pygments_lexer": "ipython3",
   "version": "3.6.0"
  }
 },
 "nbformat": 4,
 "nbformat_minor": 2
}
