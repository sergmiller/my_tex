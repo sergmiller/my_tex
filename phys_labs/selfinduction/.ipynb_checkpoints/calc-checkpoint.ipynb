{
 "cells": [
  {
   "cell_type": "code",
   "execution_count": 1,
   "metadata": {
    "collapsed": true
   },
   "outputs": [],
   "source": [
    "import numpy as np\n",
    "import scipy.stats as sps\n",
    "import matplotlib.pyplot as plt\n",
    "%matplotlib inline"
   ]
  },
  {
   "cell_type": "code",
   "execution_count": 2,
   "metadata": {
    "collapsed": true
   },
   "outputs": [],
   "source": [
    "# test 1\n",
    "nu_1 = [5,9,13,17,21,25]  # Khz\n",
    "u4_1 = 3  # v\n",
    "E02_1 = [2.8*5, 5*5, 7,2*5, 5*10, 6.4*10,7.8*10]  # mv\n",
    "\n",
    "\n",
    "# test 2\n",
    "u4_2 = 3  # v\n",
    "nu_2 = 15  # Khz\n",
    "d_2 = np.arange(0,110,10)\n",
    "E02_2 = np.array([4.4,6.8,8,8.4,8.6,8.6,8.6,8.4,8,7,4.6]) * 10  #mv\n",
    "E01_2 = np.array([4.4,7,8.2,8.6,8.8,8.8,8.8,8.6,8,7,4.6]) * 10  #mv\n",
    "\n",
    "# test 3\n"
   ]
  },
  {
   "cell_type": "code",
   "execution_count": null,
   "metadata": {
    "collapsed": true
   },
   "outputs": [],
   "source": []
  }
 ],
 "metadata": {
  "kernelspec": {
   "display_name": "Python 3",
   "language": "python",
   "name": "python3"
  },
  "language_info": {
   "codemirror_mode": {
    "name": "ipython",
    "version": 3
   },
   "file_extension": ".py",
   "mimetype": "text/x-python",
   "name": "python",
   "nbconvert_exporter": "python",
   "pygments_lexer": "ipython3",
   "version": "3.5.1"
  }
 },
 "nbformat": 4,
 "nbformat_minor": 0
}
