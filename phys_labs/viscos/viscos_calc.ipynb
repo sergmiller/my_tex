{
 "cells": [
  {
   "cell_type": "code",
   "execution_count": 1,
   "metadata": {
    "collapsed": true
   },
   "outputs": [],
   "source": [
    "import math\n",
    "import numpy as np\n",
    "import scipy as sc\n",
    "import scipy.stats as sps\n",
    "import matplotlib.pyplot as plt\n",
    "from sympy import *\n",
    "import re\n",
    "from matplotlib import cm\n",
    "from matplotlib import rcParams\n",
    "%matplotlib inline"
   ]
  },
  {
   "cell_type": "code",
   "execution_count": 60,
   "metadata": {
    "collapsed": false
   },
   "outputs": [],
   "source": [
    "sizes =[0.65,0.9,0.75,0.85,0.7,0.8,0.6,0.9,2.1,2.15,2,2.2,2.15,2.20,2.05,2.1]\n",
    "s_sizes = 0.025\n",
    "ro_steel = 7.8\n",
    "ro_glass = 2.5\n",
    "diam = 3\n",
    "delta = 10\n",
    "sigma_t = 0.4\n",
    "sigma_term = 0.1\n",
    "atm = 99.5 * 8 * 1000\n",
    "temp = [27.5, 36.5, 47.1, 54.9]\n",
    "numbs = [[1,2,9,10],[3,4,11,12],[5,6,13,14],[7,8,15,16]]\n",
    "t1 = [[26.80,12.20,11.6,11.7],[10.2,8.6,7.2,6.5],[6.70,4.5,3.70,3.60],[5.5,2.3,2.3,2.2]]\n",
    "t2 = [[51.8,24.7,23.2,23],[21.5,16.8,14.4,13.30],[13.60,9.70,7.70,7.40], [11.4,5.1,4.8,4.9]]\n",
    "g = 9.81"
   ]
  },
  {
   "cell_type": "code",
   "execution_count": 195,
   "metadata": {
    "collapsed": true
   },
   "outputs": [],
   "source": [
    "def get_visc(r, ro, ro_g, v):\n",
    "    return 2/9 * g * r**2 * (ro - ro_g)/v\n",
    "\n",
    "# def get_visc_mod(r, ro, ro_g, v):\n",
    "#     return 2/9 * g/(1 + 2.4 * r/diam * 2) * r**2 * (ro - ro_g)/v\n",
    "\n",
    "def sigma_visc(visc,t,r):\n",
    "    return visc/t * sigma_t + 0.01*visc + (visc/r * s_sizes)\n",
    "\n",
    "def get_ro_glic(t):\n",
    "#     return 1275/(1 + 2.46810 * 10**(-4) * t) * 10 ** (-3)\n",
    "    return 1.262 - (t-15)/24*0.01\n",
    "\n",
    "def get_v(t,x):\n",
    "    return x*delta/t\n",
    "\n",
    "def get_Re(r,ro_g,v,eta):\n",
    "    return 10**(-2)*v*ro_g*(10**3)*r*(10**(-2))/(eta) * 10 ** 3\n",
    "\n",
    "def get_rel(r, ro, et):\n",
    "    return 2/9*r**2*ro/et"
   ]
  },
  {
   "cell_type": "code",
   "execution_count": 196,
   "metadata": {
    "collapsed": true
   },
   "outputs": [],
   "source": [
    "ro_glic = [get_ro_glic(t) for t in temp]"
   ]
  },
  {
   "cell_type": "code",
   "execution_count": 197,
   "metadata": {
    "collapsed": false
   },
   "outputs": [
    {
     "name": "stdout",
     "output_type": "stream",
     "text": [
      "[1.2567916666666668, 1.2530416666666666, 1.248625, 1.2453750000000001]\n"
     ]
    }
   ],
   "source": [
    "print(ro_glic)"
   ]
  },
  {
   "cell_type": "code",
   "execution_count": 198,
   "metadata": {
    "collapsed": false
   },
   "outputs": [
    {
     "name": "stdout",
     "output_type": "stream",
     "text": [
      "[[   2.02070616    6.41858986]\n",
      " [  10.1295756    14.63834384]\n",
      " [  27.01016318   46.45897342]\n",
      " [  44.70898782  148.92682449]]\n",
      "[[  16.41071915   16.30905306]\n",
      " [  44.45924553   47.37956899]\n",
      " [ 143.62437083  151.9714227 ]\n",
      " [ 385.61451071  361.22537375]]\n"
     ]
    },
    {
     "data": {
      "image/png": "[encoded data removed]",
      "text/plain": [
       "<matplotlib.figure.Figure at 0x114b3e390>"
      ]
     },
     "metadata": {},
     "output_type": "display_data"
    }
   ],
   "source": [
    "viscos = []\n",
    "viscos_mod = []\n",
    "sigma_viscos = []\n",
    "Re = []\n",
    "Rel = []\n",
    "for i in range(4):\n",
    "    vs = []\n",
    "    sg = []\n",
    "    re = []\n",
    "    rel = []\n",
    "    for j in range(4):\n",
    "        if j < 2:\n",
    "            roo = ro_steel\n",
    "        else:\n",
    "            roo = ro_glass\n",
    "        v1 = get_v(t1[i][j],1)\n",
    "        v2 = get_v(t2[i][j],2)\n",
    "        vs.append([get_visc(sizes[numbs[i][j]-1], roo, ro_glic[i], v1), get_visc(sizes[numbs[i][j]-1], roo, ro_glic[i], v2)])\n",
    "        sg.append([sigma_visc(vs[j][0], t1[i][j], sizes[numbs[i][j]-1]), sigma_visc(vs[j][1], t2[i][j], sizes[numbs[i][j]-1])])\n",
    "        re.append(get_Re(sizes[numbs[i][j]-1], ro_glic[i], v2,vs[j][1]))\n",
    "        rel.append(get_rel(sizes[numbs[i][j]-1], roo, vs[j][1])*v2)\n",
    "    Rel.append(rel)\n",
    "    Re.append(re)\n",
    "    viscos.append(vs)\n",
    "    sigma_viscos.append(sg)\n",
    "viscos = np.array(viscos)\n",
    "sigma_viscos = np.array(sigma_viscos)\n",
    "Re = np.array(Re)\n",
    "Rel = np.array(Rel)\n",
    "# print(Rel)\n",
    "# print(Re)\n",
    "l = np.array([[x[0],x[1]] for x in Re])\n",
    "b = np.array([[x[2],x[3]] for x in Re])\n",
    "print(l)\n",
    "print(b)\n",
    "plt.figure(figsize=(15,8))\n",
    "for i in range(4):\n",
    "    plt.plot([2*i+1, 2*i + 2, 9 + 2*i, 9 + 2*i+ 1], Re[i], '*', label=temp[i])\n",
    "plt.ylim([0,np.max([np.max(Re[i]) for i in range(4)])*1.1])\n",
    "plt.xlim([-1,20])\n",
    "plt.legend(loc='best')\n",
    "plt.show()"
   ]
  },
  {
   "cell_type": "code",
   "execution_count": 199,
   "metadata": {
    "collapsed": false
   },
   "outputs": [
    {
     "name": "stdout",
     "output_type": "stream",
     "text": [
      "[1561.0, 1427.0, 1386.0, 1441.0]\n",
      "[863.0, 866.0, 783.0, 875.0]\n",
      "[476.0, 443.0, 485.0, 489.0]\n",
      "[293.0, 295.0, 276.0, 296.0]\n",
      "\n",
      "[2.0, 6.4000000000000004, 16.399999999999999, 16.300000000000001]\n",
      "[10.1, 14.6, 44.5, 47.399999999999999]\n",
      "[27.0, 46.5, 143.59999999999999, 152.0]\n",
      "[44.700000000000003, 148.90000000000001, 385.60000000000002, 361.19999999999999]\n",
      "\n",
      "[88.0, 77.0, 54.0, 56.0]\n",
      "[53.0, 55.0, 39.0, 45.0]\n",
      "[36.0, 37.0, 36.0, 37.0]\n",
      "[25.0, 34.0, 29.0, 31.0]\n",
      "\n",
      "[6.0, 5.0, 4.0, 4.0]\n",
      "[6.0, 6.0, 5.0, 5.0]\n",
      "[8.0, 8.0, 7.0, 8.0]\n",
      "[9.0, 12.0, 11.0, 10.0]\n",
      "[ 1433.81200252   868.05223592   483.29914469   294.62165355]\n",
      "[67.4213400919721 51.2566212690924 36.1087767156568 30.3291383679058]\n",
      "[4.70224408594594, 5.90478535140949, 7.47130987340354, 10.2942665627116]\n"
     ]
    },
    {
     "data": {
      "image/png": "[encoded data removed]",
      "text/plain": [
       "<matplotlib.figure.Figure at 0x113170860>"
      ]
     },
     "metadata": {},
     "output_type": "display_data"
    },
    {
     "name": "stdout",
     "output_type": "stream",
     "text": [
      "1.2495\n"
     ]
    }
   ],
   "source": [
    "for i in range(4):\n",
    "    print([round(x[1]*100) for x in viscos[i]])\n",
    "print()\n",
    "for i in range(4):\n",
    "    print([round(x,1) for x in Re[i]])\n",
    "eps_viscos = []\n",
    "for i in range(4):\n",
    "    ep = []\n",
    "    for j in range(4):\n",
    "        ep.append([sigma_viscos[i][j][0]/viscos[i][j][0],sigma_viscos[i][j][1]/viscos[i][j][1]])\n",
    "    eps_viscos.append(ep)\n",
    "eps_viscos = np.array(eps_viscos)\n",
    "# print( eps_viscos)\n",
    "print()\n",
    "for i in range(4):\n",
    "    print([round(x[1]*100) for x in sigma_viscos[i]])\n",
    "print()\n",
    "for i in range(4):\n",
    "    print([round(x[1]*100) for x in eps_viscos[i]])\n",
    "    \n",
    "vis_mod = [0 for i in range(4)]\n",
    "vis_mod[0] = np.mean([viscos[0][i][1] for i in [1,3]])\n",
    "vis_mod[1] = np.mean([viscos[1][i][1] for i in [0,1,3]])\n",
    "vis_mod[2] = np.mean([viscos[2][i][1] for i in [0,2,3]])\n",
    "vis_mod[3] = np.mean([viscos[3][i][1] for i in [0,1,3]])\n",
    "sig_mod = [0 for i in range(4)]\n",
    "sig_mod[0] = sqrt(np.mean([sigma_viscos[0][i][1]**2 for i in [1,3]]))\n",
    "sig_mod[1] = sqrt(np.mean([sigma_viscos[1][i][1]**2 for i in [0,1,3]]))\n",
    "sig_mod[2] = sqrt(np.mean([sigma_viscos[2][i][1]**2 for i in [0,2,3]]))\n",
    "sig_mod[3] = sqrt(np.mean([sigma_viscos[3][i][1]**2 for i in [0,1,3]]))\n",
    "sig_mod = np.array(sig_mod)\n",
    "vis_mod = np.array(vis_mod)\n",
    "    \n",
    "print(vis_mod*100)\n",
    "print(sig_mod*100)\n",
    "print([sig_mod[i]/vis_mod[i]*100 for i in range(4)])\n",
    "plt.figure(figsize=(15,8))\n",
    "plt.plot(temp, vis_mod*100)\n",
    "plt.plot([20,30,40,50],[1480,600,330,180])\n",
    "plt.show()\n",
    "print(get_ro_glic(45))"
   ]
  },
  {
   "cell_type": "code",
   "execution_count": 23,
   "metadata": {
    "collapsed": true
   },
   "outputs": [],
   "source": [
    "eps_model = []\n",
    "for i in range(4):\n",
    "    em = []\n",
    "    for j in range(2):\n",
    "        maxx = np.max([x[j] for x in viscos[i]])\n",
    "        minn = np.min([x[j] for x in viscos[i]])\n",
    "        em.append((maxx-minn)/minn)\n",
    "    eps_model.append(em)\n",
    "eps_model = np.array(eps_model)"
   ]
  },
  {
   "cell_type": "code",
   "execution_count": 24,
   "metadata": {
    "collapsed": false
   },
   "outputs": [
    {
     "name": "stdout",
     "output_type": "stream",
     "text": [
      "[[ 0.17231525  0.13294645]\n",
      " [ 0.14058637  0.11756944]\n",
      " [ 0.14683333  0.09362972]\n",
      " [ 0.07896112  0.07865459]]\n"
     ]
    }
   ],
   "source": [
    "print(eps_model)"
   ]
  },
  {
   "cell_type": "code",
   "execution_count": 65,
   "metadata": {
    "collapsed": false
   },
   "outputs": [
    {
     "name": "stdout",
     "output_type": "stream",
     "text": [
      "14.271938253 0.309153834131\n",
      "8.6464787095 0.196939641396\n",
      "4.79973511072 0.133083598864\n",
      "2.93257577316 0.0679729389446\n"
     ]
    }
   ],
   "source": [
    "viscos_avg = []\n",
    "viscos_std = []\n",
    "viscos_sigma_avg = []\n",
    "for i in range(4):\n",
    "    viscos_avg.append(np.mean([viscos[i][j][1] for j in range(4) if(i == 3 and j != 2) or (i == 0 and j != 0 and j != 2) or (i == 1 and j != 2) or (i == 2 and j != 1)]))\n",
    "    viscos_sigma_avg.append(sqrt(np.mean[viscos[i][j][1] for j in range(4)]))\n",
    "    viscos_std.append(np.std([viscos[i][j][1] for j in range(4) if(i == 3 and j != 2) or (i == 0 and j != 0 and j != 2) or (i == 1 and j != 2) or (i == 2 and j != 1)]) + 0.02 * viscos_avg[i])\n",
    "    print(viscos_avg[i], viscos_std[i])\n",
    "viscos_avg = np.array(viscos_avg)\n",
    "viscos_std = np.array(viscos_std)"
   ]
  },
  {
   "cell_type": "code",
   "execution_count": 143,
   "metadata": {
    "collapsed": false
   },
   "outputs": [
    {
     "data": {
      "image/png": "[encoded data removed]",
      "text/plain": [
       "<matplotlib.figure.Figure at 0x114a13278>"
      ]
     },
     "metadata": {},
     "output_type": "display_data"
    },
    {
     "name": "stdout",
     "output_type": "stream",
     "text": [
      "k_mean:  5769.88439994330\n",
      "W_mean:  7962.44047192176  *e-23\n",
      "W_sigma:  271.530555395257\n",
      "W_eps:  0.0341014235965424\n"
     ]
    }
   ],
   "source": [
    "plt.figure(figsize=(15,8))\n",
    "plt.title(r'',fontsize=15)\n",
    "errg = [sigma_term/(t+273)**2 for t in temp]\n",
    "errv = [sig_mod[i]/vis_mod[i] for i in range(4)]\n",
    "tp = [1/(t + 273) for t in temp]\n",
    "lnvis = [log(v) for v in vis_mod]\n",
    "k = np.mean([(lnvis[i+1] - lnvis[i])/(tp[i+1] - tp[i]) for i in range(3)])\n",
    "b = np.mean([lnvis[i] - k * tp[i] for i in range(4)])\n",
    "line = [k*tp[i] + b for i in range(4)]\n",
    "plt.plot(tp, lnvis, '*')\n",
    "plt.plot(tp,line)\n",
    "plt.errorbar(tp, lnvis, xerr=errg, yerr=errv,fmt='o')\n",
    "plt.xlabel(r'$\\frac{1}{T} \\quad К^{-1}$',fontsize=15)\n",
    "plt.ylabel(r'$ln \\eta $\\[mPa c]',fontsize=15)\n",
    "# plt.ylim([0, len(data)*1.1])\n",
    "plt.grid(True)\n",
    "plt.show()\n",
    "epss = sqrt((0.1/np.min(vis_mod))**2 + (0.1/293)**2)\n",
    "print('k_mean: ', k)\n",
    "print('W_mean: ', k*1.38, ' *e-23')\n",
    "print('W_sigma: ', k*1.38 * epss)\n",
    "print('W_eps: ', epss)"
   ]
  },
  {
   "cell_type": "code",
   "execution_count": null,
   "metadata": {
    "collapsed": true
   },
   "outputs": [],
   "source": []
  }
 ],
 "metadata": {
  "kernelspec": {
   "display_name": "Python 3",
   "language": "python",
   "name": "python3"
  },
  "language_info": {
   "codemirror_mode": {
    "name": "ipython",
    "version": 3
   },
   "file_extension": ".py",
   "mimetype": "text/x-python",
   "name": "python",
   "nbconvert_exporter": "python",
   "pygments_lexer": "ipython3",
   "version": "3.5.1"
  }
 },
 "nbformat": 4,
 "nbformat_minor": 0
}
