{
 "cells": [
  {
   "cell_type": "code",
   "execution_count": 1,
   "metadata": {
    "collapsed": true
   },
   "outputs": [],
   "source": [
    "import numpy as np\n",
    "import pandas as pd\n",
    "import matplotlib.pyplot as plt\n",
    "import sklearn\n",
    "plt.style.use('ggplot')\n",
    "from sympy import *\n",
    "from matplotlib import cm\n",
    "from sklearn.datasets import load_boston\n",
    "from sklearn.cross_validation import KFold\n",
    "from sklearn.cross_validation import cross_val_score\n",
    "from sklearn.neighbors import KNeighborsClassifier, KNeighborsRegressor\n",
    "%matplotlib inline\n",
    "def scan_from_csv(filename):\n",
    "    return pd.read_csv(filename,na_values='None')\n",
    "\n",
    "def write_answer_to_file(answer,file):\n",
    "    with open(file, 'w') as answer_file:  \n",
    "        answer_file.write(answer)"
   ]
  },
  {
   "cell_type": "code",
   "execution_count": 12,
   "metadata": {
    "collapsed": true
   },
   "outputs": [],
   "source": [
    "l1 = np.array([20,30,20,30,20])\n",
    "l2 = np.array([20,30,50,60,30])\n",
    "f = np.array([105,85,75,55,95])\n",
    "db = 1\n",
    "dr = np.array([3,2,7,5,7])\n",
    "d = 5*1e-1\n",
    "L = 125\n",
    "F = 30\n",
    "lambd = 661*1e-9"
   ]
  },
  {
   "cell_type": "code",
   "execution_count": 11,
   "metadata": {
    "collapsed": false
   },
   "outputs": [
    {
     "name": "stdout",
     "output_type": "stream",
     "text": [
      "0.004 0.20015993605114887\n"
     ]
    }
   ],
   "source": [
    "a = d/L\n",
    "s_a = ((1/5)**2 + (1/125)**2)**0.5\n",
    "d_a = s_a*a\n",
    "print(a,s_a)"
   ]
  },
  {
   "cell_type": "code",
   "execution_count": null,
   "metadata": {
    "collapsed": true
   },
   "outputs": [],
   "source": []
  }
 ],
 "metadata": {
  "kernelspec": {
   "display_name": "Python 3",
   "language": "python",
   "name": "python3"
  },
  "language_info": {
   "codemirror_mode": {
    "name": "ipython",
    "version": 3
   },
   "file_extension": ".py",
   "mimetype": "text/x-python",
   "name": "python",
   "nbconvert_exporter": "python",
   "pygments_lexer": "ipython3",
   "version": "3.5.2"
  }
 },
 "nbformat": 4,
 "nbformat_minor": 0
}
