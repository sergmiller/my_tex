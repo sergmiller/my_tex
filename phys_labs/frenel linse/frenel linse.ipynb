{
 "cells": [
  {
   "cell_type": "code",
   "execution_count": 1,
   "metadata": {
    "collapsed": true
   },
   "outputs": [],
   "source": [
    "import numpy as np\n",
    "import pandas as pd\n",
    "import matplotlib.pyplot as plt\n",
    "import sklearn\n",
    "plt.style.use('ggplot')\n",
    "from sympy import *\n",
    "from matplotlib import cm\n",
    "from sklearn.datasets import load_boston\n",
    "from sklearn.cross_validation import KFold\n",
    "from sklearn.cross_validation import cross_val_score\n",
    "from sklearn.neighbors import KNeighborsClassifier, KNeighborsRegressor\n",
    "%matplotlib inline\n",
    "def scan_from_csv(filename):\n",
    "    return pd.read_csv(filename,na_values='None')\n",
    "\n",
    "def write_answer_to_file(answer,file):\n",
    "    with open(file, 'w') as answer_file:  \n",
    "        answer_file.write(answer)"
   ]
  },
  {
   "cell_type": "code",
   "execution_count": 116,
   "metadata": {
    "collapsed": true
   },
   "outputs": [],
   "source": [
    "l1 = np.array([20,30,20,30,20])\n",
    "l2 = np.array([20,30,50,60,30])\n",
    "f_air = np.array([75,105,85])\n",
    "f_wat = np.array([75,55,95])\n",
    "db = 0.1\n",
    "dr_air = np.array([2,3,2])*0.1\n",
    "dr_wat = np.array([7,5,7])*0.1\n",
    "x1 = 0.5\n",
    "x2 = 0.2\n",
    "L = 125\n",
    "F = 3.6\n",
    "n = 4/3\n",
    "lambd = 661*1e-7"
   ]
  },
  {
   "cell_type": "code",
   "execution_count": 122,
   "metadata": {
    "collapsed": true
   },
   "outputs": [],
   "source": [
    "def calc(x,L,F,f,dr,n):\n",
    "    a1 = x/L\n",
    "    print(a1,a1*((0.05/x)**2 + (1/L)**2)**0.5)\n",
    "    d = f*F/(f-F)\n",
    "    s_d = (2*(1/np.mean(f))**2 + 0.05**2)**0.5\n",
    "    print(d)\n",
    "    L2 = dr + db\n",
    "    s_L2 = 0.05/np.mean(L2)\n",
    "    print(L2)\n",
    "    G = f/d\n",
    "    s_G = ((1/np.mean(f))**2 + s_d**2)**0.5\n",
    "    print(G)\n",
    "    L1 = L2/G\n",
    "    s_L1 = (s_L2**2 + s_G**2)**0.5\n",
    "    print(L1)\n",
    "    a2 = lambd/L1\n",
    "    print(a2,a2*(0.05**2 + s_L1**2)**0.5)"
   ]
  },
  {
   "cell_type": "code",
   "execution_count": 123,
   "metadata": {
    "collapsed": false
   },
   "outputs": [
    {
     "name": "stdout",
     "output_type": "stream",
     "text": [
      "0.004 0.00040127795852750256\n",
      "[ 3.78151261  3.72781065  3.75921376]\n",
      "[ 0.3  0.4  0.3]\n",
      "[ 19.83333333  28.16666667  22.61111111]\n",
      "[ 0.01512605  0.01420118  0.01326781]\n",
      "[ 0.00436994  0.00465454  0.00498198] [ 0.00072972  0.00077725  0.00083192]\n"
     ]
    }
   ],
   "source": [
    "calc(x1,L,F,f_air, dr_air,1)"
   ]
  },
  {
   "cell_type": "code",
   "execution_count": 124,
   "metadata": {
    "collapsed": false
   },
   "outputs": [
    {
     "name": "stdout",
     "output_type": "stream",
     "text": [
      "0.0016 0.0004002047475980264\n",
      "[ 3.78151261  3.85214008  3.74179431]\n",
      "[ 0.8  0.6  0.8]\n",
      "[ 19.83333333  14.27777778  25.38888889]\n",
      "[ 0.04033613  0.04202335  0.03150985]\n",
      "[ 0.00163873  0.00157294  0.00209776] [ 0.00016536  0.00015872  0.00021168]\n"
     ]
    }
   ],
   "source": [
    "calc(x2,L,F,f_wat, dr_wat,1)"
   ]
  },
  {
   "cell_type": "code",
   "execution_count": 133,
   "metadata": {
    "collapsed": true
   },
   "outputs": [],
   "source": [
    "av = 4.3*1e-3\n",
    "nv = 1\n",
    "aw = 1.65*1e-3\n",
    "nw = 4/3\n",
    "bt = (av*nv - aw*nw)/(nw-nv)\n",
    "s_bt = ((0.6/4)**2 + (0.3/1.6)**2)**0.5"
   ]
  },
  {
   "cell_type": "code",
   "execution_count": 134,
   "metadata": {
    "collapsed": false
   },
   "outputs": [
    {
     "name": "stdout",
     "output_type": "stream",
     "text": [
      "6.3000000000000025 1.512738101093511\n"
     ]
    }
   ],
   "source": [
    "print(bt*1e3,s_bt*bt*1e3)"
   ]
  },
  {
   "cell_type": "code",
   "execution_count": 137,
   "metadata": {
    "collapsed": true
   },
   "outputs": [],
   "source": [
    "n1 = (av-aw)/(av/nw - aw/nv)"
   ]
  },
  {
   "cell_type": "code",
   "execution_count": 138,
   "metadata": {
    "collapsed": false
   },
   "outputs": [
    {
     "name": "stdout",
     "output_type": "stream",
     "text": [
      "1.6825396825396826\n"
     ]
    }
   ],
   "source": [
    "print(n1)"
   ]
  },
  {
   "cell_type": "code",
   "execution_count": null,
   "metadata": {
    "collapsed": true
   },
   "outputs": [],
   "source": []
  }
 ],
 "metadata": {
  "kernelspec": {
   "display_name": "Python 3",
   "language": "python",
   "name": "python3"
  },
  "language_info": {
   "codemirror_mode": {
    "name": "ipython",
    "version": 3
   },
   "file_extension": ".py",
   "mimetype": "text/x-python",
   "name": "python",
   "nbconvert_exporter": "python",
   "pygments_lexer": "ipython3",
   "version": "3.5.2"
  }
 },
 "nbformat": 4,
 "nbformat_minor": 0
}
